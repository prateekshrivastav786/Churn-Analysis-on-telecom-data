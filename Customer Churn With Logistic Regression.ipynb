{
 "cells": [
  {
   "cell_type": "code",
   "execution_count": 1,
   "metadata": {},
   "outputs": [
    {
     "ename": "ImportError",
     "evalue": "No module named cross_validation",
     "output_type": "error",
     "traceback": [
      "\u001b[0;31m---------------------------------------------------------------------------\u001b[0m",
      "\u001b[0;31mImportError\u001b[0m                               Traceback (most recent call last)",
      "\u001b[0;32m<ipython-input-1-413df3bfabe6>\u001b[0m in \u001b[0;36m<module>\u001b[0;34m()\u001b[0m\n\u001b[1;32m      5\u001b[0m \u001b[0;32mimport\u001b[0m \u001b[0mscipy\u001b[0m\u001b[0;34m.\u001b[0m\u001b[0moptimize\u001b[0m \u001b[0;32mas\u001b[0m \u001b[0mopt\u001b[0m\u001b[0;34m\u001b[0m\u001b[0m\n\u001b[1;32m      6\u001b[0m \u001b[0;32mfrom\u001b[0m \u001b[0msklearn\u001b[0m \u001b[0;32mimport\u001b[0m \u001b[0mpreprocessing\u001b[0m\u001b[0;34m\u001b[0m\u001b[0m\n\u001b[0;32m----> 7\u001b[0;31m \u001b[0;32mfrom\u001b[0m \u001b[0msklearn\u001b[0m\u001b[0;34m.\u001b[0m\u001b[0mcross_validation\u001b[0m \u001b[0;32mimport\u001b[0m \u001b[0mtrain_test_split\u001b[0m\u001b[0;34m\u001b[0m\u001b[0m\n\u001b[0m\u001b[1;32m      8\u001b[0m \u001b[0mget_ipython\u001b[0m\u001b[0;34m(\u001b[0m\u001b[0;34m)\u001b[0m\u001b[0;34m.\u001b[0m\u001b[0mmagic\u001b[0m\u001b[0;34m(\u001b[0m\u001b[0;34mu'matplotlib inline'\u001b[0m\u001b[0;34m)\u001b[0m\u001b[0;34m\u001b[0m\u001b[0m\n\u001b[1;32m      9\u001b[0m \u001b[0;32mimport\u001b[0m \u001b[0mmatplotlib\u001b[0m\u001b[0;34m.\u001b[0m\u001b[0mpyplot\u001b[0m \u001b[0;32mas\u001b[0m \u001b[0mplt\u001b[0m\u001b[0;34m\u001b[0m\u001b[0m\n",
      "\u001b[0;31mImportError\u001b[0m: No module named cross_validation"
     ]
    }
   ],
   "source": [
    "import pandas as pd\n",
    "import statsmodels.api as sm\n",
    "import pylab as pl\n",
    "import numpy as np\n",
    "import scipy.optimize as opt\n",
    "from sklearn import preprocessing\n",
    "from sklearn.cross_validation import train_test_split\n",
    "%matplotlib inline \n",
    "import matplotlib.pyplot as plt\n",
    "import warnings\n",
    "warnings.filterwarnings('ignore')\n",
    "import scikitplot as skplt"
   ]
  },
  {
   "cell_type": "markdown",
   "metadata": {},
   "source": [
    "### TASK\n",
    "\n",
    "A telecommunications company is concerned about the number of customers leaving them for other competitors. They need to understand who is leaving. "
   ]
  },
  {
   "cell_type": "markdown",
   "metadata": {},
   "source": [
    "## About dataset\n",
    "\n",
    "We will use a telecommunications data for predicting customer churn. This is a historical customer data where each row represents one customer. Typically it is less expensive to keep customers than acquire new ones, so the focus of this analysis is to predict the customers who will stay with the company.\n",
    "\n",
    "This data set provides info to help you predict behavior to retain customers. You can analyze all relevant customer data and develop focused customer retention programs.\n",
    "\n",
    "The data set includes information about:\n",
    "\n",
    "**Customers who left within the last month** – the column is called Churn\n",
    "\n",
    "**Services that each customer has signed up for** – phone, multiple lines, internet, online security, online backup, device protection, tech support, and streaming TV and movies\n",
    "\n",
    "**Customer account information** – how long they’ve been a customer, contract, payment method, paperless billing, monthly charges, and total charges\n",
    "\n",
    "**Demographic info about customers** – gender, age range, and if they have partners and dependents\n"
   ]
  },
  {
   "cell_type": "markdown",
   "metadata": {},
   "source": [
    "###### Load Data From CSV File"
   ]
  },
  {
   "cell_type": "code",
   "execution_count": 2,
   "metadata": {},
   "outputs": [
    {
     "data": {
      "text/html": [
       "<div>\n",
       "<style scoped>\n",
       "    .dataframe tbody tr th:only-of-type {\n",
       "        vertical-align: middle;\n",
       "    }\n",
       "\n",
       "    .dataframe tbody tr th {\n",
       "        vertical-align: top;\n",
       "    }\n",
       "\n",
       "    .dataframe thead th {\n",
       "        text-align: right;\n",
       "    }\n",
       "</style>\n",
       "<table border=\"1\" class=\"dataframe\">\n",
       "  <thead>\n",
       "    <tr style=\"text-align: right;\">\n",
       "      <th></th>\n",
       "      <th>tenure</th>\n",
       "      <th>age</th>\n",
       "      <th>address</th>\n",
       "      <th>income</th>\n",
       "      <th>ed</th>\n",
       "      <th>employ</th>\n",
       "      <th>equip</th>\n",
       "      <th>callcard</th>\n",
       "      <th>wireless</th>\n",
       "      <th>longmon</th>\n",
       "      <th>...</th>\n",
       "      <th>pager</th>\n",
       "      <th>internet</th>\n",
       "      <th>callwait</th>\n",
       "      <th>confer</th>\n",
       "      <th>ebill</th>\n",
       "      <th>loglong</th>\n",
       "      <th>logtoll</th>\n",
       "      <th>lninc</th>\n",
       "      <th>custcat</th>\n",
       "      <th>churn</th>\n",
       "    </tr>\n",
       "  </thead>\n",
       "  <tbody>\n",
       "    <tr>\n",
       "      <th>0</th>\n",
       "      <td>11.0</td>\n",
       "      <td>33.0</td>\n",
       "      <td>7.0</td>\n",
       "      <td>136.0</td>\n",
       "      <td>5.0</td>\n",
       "      <td>5.0</td>\n",
       "      <td>0.0</td>\n",
       "      <td>1.0</td>\n",
       "      <td>1.0</td>\n",
       "      <td>4.40</td>\n",
       "      <td>...</td>\n",
       "      <td>1.0</td>\n",
       "      <td>0.0</td>\n",
       "      <td>1.0</td>\n",
       "      <td>1.0</td>\n",
       "      <td>0.0</td>\n",
       "      <td>1.482</td>\n",
       "      <td>3.033</td>\n",
       "      <td>4.913</td>\n",
       "      <td>4.0</td>\n",
       "      <td>1.0</td>\n",
       "    </tr>\n",
       "    <tr>\n",
       "      <th>1</th>\n",
       "      <td>33.0</td>\n",
       "      <td>33.0</td>\n",
       "      <td>12.0</td>\n",
       "      <td>33.0</td>\n",
       "      <td>2.0</td>\n",
       "      <td>0.0</td>\n",
       "      <td>0.0</td>\n",
       "      <td>0.0</td>\n",
       "      <td>0.0</td>\n",
       "      <td>9.45</td>\n",
       "      <td>...</td>\n",
       "      <td>0.0</td>\n",
       "      <td>0.0</td>\n",
       "      <td>0.0</td>\n",
       "      <td>0.0</td>\n",
       "      <td>0.0</td>\n",
       "      <td>2.246</td>\n",
       "      <td>3.240</td>\n",
       "      <td>3.497</td>\n",
       "      <td>1.0</td>\n",
       "      <td>1.0</td>\n",
       "    </tr>\n",
       "    <tr>\n",
       "      <th>2</th>\n",
       "      <td>23.0</td>\n",
       "      <td>30.0</td>\n",
       "      <td>9.0</td>\n",
       "      <td>30.0</td>\n",
       "      <td>1.0</td>\n",
       "      <td>2.0</td>\n",
       "      <td>0.0</td>\n",
       "      <td>0.0</td>\n",
       "      <td>0.0</td>\n",
       "      <td>6.30</td>\n",
       "      <td>...</td>\n",
       "      <td>0.0</td>\n",
       "      <td>0.0</td>\n",
       "      <td>0.0</td>\n",
       "      <td>1.0</td>\n",
       "      <td>0.0</td>\n",
       "      <td>1.841</td>\n",
       "      <td>3.240</td>\n",
       "      <td>3.401</td>\n",
       "      <td>3.0</td>\n",
       "      <td>0.0</td>\n",
       "    </tr>\n",
       "    <tr>\n",
       "      <th>3</th>\n",
       "      <td>38.0</td>\n",
       "      <td>35.0</td>\n",
       "      <td>5.0</td>\n",
       "      <td>76.0</td>\n",
       "      <td>2.0</td>\n",
       "      <td>10.0</td>\n",
       "      <td>1.0</td>\n",
       "      <td>1.0</td>\n",
       "      <td>1.0</td>\n",
       "      <td>6.05</td>\n",
       "      <td>...</td>\n",
       "      <td>1.0</td>\n",
       "      <td>1.0</td>\n",
       "      <td>1.0</td>\n",
       "      <td>1.0</td>\n",
       "      <td>1.0</td>\n",
       "      <td>1.800</td>\n",
       "      <td>3.807</td>\n",
       "      <td>4.331</td>\n",
       "      <td>4.0</td>\n",
       "      <td>0.0</td>\n",
       "    </tr>\n",
       "    <tr>\n",
       "      <th>4</th>\n",
       "      <td>7.0</td>\n",
       "      <td>35.0</td>\n",
       "      <td>14.0</td>\n",
       "      <td>80.0</td>\n",
       "      <td>2.0</td>\n",
       "      <td>15.0</td>\n",
       "      <td>0.0</td>\n",
       "      <td>1.0</td>\n",
       "      <td>0.0</td>\n",
       "      <td>7.10</td>\n",
       "      <td>...</td>\n",
       "      <td>0.0</td>\n",
       "      <td>0.0</td>\n",
       "      <td>1.0</td>\n",
       "      <td>1.0</td>\n",
       "      <td>0.0</td>\n",
       "      <td>1.960</td>\n",
       "      <td>3.091</td>\n",
       "      <td>4.382</td>\n",
       "      <td>3.0</td>\n",
       "      <td>0.0</td>\n",
       "    </tr>\n",
       "    <tr>\n",
       "      <th>5</th>\n",
       "      <td>68.0</td>\n",
       "      <td>52.0</td>\n",
       "      <td>17.0</td>\n",
       "      <td>120.0</td>\n",
       "      <td>1.0</td>\n",
       "      <td>24.0</td>\n",
       "      <td>0.0</td>\n",
       "      <td>1.0</td>\n",
       "      <td>0.0</td>\n",
       "      <td>20.70</td>\n",
       "      <td>...</td>\n",
       "      <td>0.0</td>\n",
       "      <td>0.0</td>\n",
       "      <td>0.0</td>\n",
       "      <td>0.0</td>\n",
       "      <td>0.0</td>\n",
       "      <td>3.030</td>\n",
       "      <td>3.240</td>\n",
       "      <td>4.787</td>\n",
       "      <td>1.0</td>\n",
       "      <td>0.0</td>\n",
       "    </tr>\n",
       "    <tr>\n",
       "      <th>6</th>\n",
       "      <td>42.0</td>\n",
       "      <td>40.0</td>\n",
       "      <td>7.0</td>\n",
       "      <td>37.0</td>\n",
       "      <td>2.0</td>\n",
       "      <td>8.0</td>\n",
       "      <td>1.0</td>\n",
       "      <td>1.0</td>\n",
       "      <td>1.0</td>\n",
       "      <td>8.25</td>\n",
       "      <td>...</td>\n",
       "      <td>0.0</td>\n",
       "      <td>1.0</td>\n",
       "      <td>1.0</td>\n",
       "      <td>1.0</td>\n",
       "      <td>1.0</td>\n",
       "      <td>2.110</td>\n",
       "      <td>3.157</td>\n",
       "      <td>3.611</td>\n",
       "      <td>4.0</td>\n",
       "      <td>0.0</td>\n",
       "    </tr>\n",
       "  </tbody>\n",
       "</table>\n",
       "<p>7 rows × 28 columns</p>\n",
       "</div>"
      ],
      "text/plain": [
       "   tenure   age  address  income   ed  employ  equip  callcard  wireless  \\\n",
       "0    11.0  33.0      7.0   136.0  5.0     5.0    0.0       1.0       1.0   \n",
       "1    33.0  33.0     12.0    33.0  2.0     0.0    0.0       0.0       0.0   \n",
       "2    23.0  30.0      9.0    30.0  1.0     2.0    0.0       0.0       0.0   \n",
       "3    38.0  35.0      5.0    76.0  2.0    10.0    1.0       1.0       1.0   \n",
       "4     7.0  35.0     14.0    80.0  2.0    15.0    0.0       1.0       0.0   \n",
       "5    68.0  52.0     17.0   120.0  1.0    24.0    0.0       1.0       0.0   \n",
       "6    42.0  40.0      7.0    37.0  2.0     8.0    1.0       1.0       1.0   \n",
       "\n",
       "   longmon  ...  pager  internet  callwait  confer  ebill  loglong  logtoll  \\\n",
       "0     4.40  ...    1.0       0.0       1.0     1.0    0.0    1.482    3.033   \n",
       "1     9.45  ...    0.0       0.0       0.0     0.0    0.0    2.246    3.240   \n",
       "2     6.30  ...    0.0       0.0       0.0     1.0    0.0    1.841    3.240   \n",
       "3     6.05  ...    1.0       1.0       1.0     1.0    1.0    1.800    3.807   \n",
       "4     7.10  ...    0.0       0.0       1.0     1.0    0.0    1.960    3.091   \n",
       "5    20.70  ...    0.0       0.0       0.0     0.0    0.0    3.030    3.240   \n",
       "6     8.25  ...    0.0       1.0       1.0     1.0    1.0    2.110    3.157   \n",
       "\n",
       "   lninc  custcat  churn  \n",
       "0  4.913      4.0    1.0  \n",
       "1  3.497      1.0    1.0  \n",
       "2  3.401      3.0    0.0  \n",
       "3  4.331      4.0    0.0  \n",
       "4  4.382      3.0    0.0  \n",
       "5  4.787      1.0    0.0  \n",
       "6  3.611      4.0    0.0  \n",
       "\n",
       "[7 rows x 28 columns]"
      ]
     },
     "execution_count": 2,
     "metadata": {},
     "output_type": "execute_result"
    }
   ],
   "source": [
    "churn_df = pd.read_csv(\"ChurnData.csv\")\n",
    "churn_df.head(7)"
   ]
  },
  {
   "cell_type": "markdown",
   "metadata": {},
   "source": [
    "### Data pre-processing and selection\n",
    "\n",
    "Lets select some features for the modeling. Also we change the target data type to be integer, as it is a requirement by the skitlearn algorithm: And I will be using sklearn library"
   ]
  },
  {
   "cell_type": "code",
   "execution_count": 86,
   "metadata": {},
   "outputs": [
    {
     "data": {
      "text/html": [
       "<div>\n",
       "<style scoped>\n",
       "    .dataframe tbody tr th:only-of-type {\n",
       "        vertical-align: middle;\n",
       "    }\n",
       "\n",
       "    .dataframe tbody tr th {\n",
       "        vertical-align: top;\n",
       "    }\n",
       "\n",
       "    .dataframe thead th {\n",
       "        text-align: right;\n",
       "    }\n",
       "</style>\n",
       "<table border=\"1\" class=\"dataframe\">\n",
       "  <thead>\n",
       "    <tr style=\"text-align: right;\">\n",
       "      <th></th>\n",
       "      <th>tenure</th>\n",
       "      <th>age</th>\n",
       "      <th>address</th>\n",
       "      <th>income</th>\n",
       "      <th>ed</th>\n",
       "      <th>employ</th>\n",
       "      <th>equip</th>\n",
       "      <th>callcard</th>\n",
       "      <th>wireless</th>\n",
       "      <th>churn</th>\n",
       "    </tr>\n",
       "  </thead>\n",
       "  <tbody>\n",
       "    <tr>\n",
       "      <th>0</th>\n",
       "      <td>11.0</td>\n",
       "      <td>33.0</td>\n",
       "      <td>7.0</td>\n",
       "      <td>136.0</td>\n",
       "      <td>5.0</td>\n",
       "      <td>5.0</td>\n",
       "      <td>0.0</td>\n",
       "      <td>1.0</td>\n",
       "      <td>1.0</td>\n",
       "      <td>1</td>\n",
       "    </tr>\n",
       "    <tr>\n",
       "      <th>1</th>\n",
       "      <td>33.0</td>\n",
       "      <td>33.0</td>\n",
       "      <td>12.0</td>\n",
       "      <td>33.0</td>\n",
       "      <td>2.0</td>\n",
       "      <td>0.0</td>\n",
       "      <td>0.0</td>\n",
       "      <td>0.0</td>\n",
       "      <td>0.0</td>\n",
       "      <td>1</td>\n",
       "    </tr>\n",
       "    <tr>\n",
       "      <th>2</th>\n",
       "      <td>23.0</td>\n",
       "      <td>30.0</td>\n",
       "      <td>9.0</td>\n",
       "      <td>30.0</td>\n",
       "      <td>1.0</td>\n",
       "      <td>2.0</td>\n",
       "      <td>0.0</td>\n",
       "      <td>0.0</td>\n",
       "      <td>0.0</td>\n",
       "      <td>0</td>\n",
       "    </tr>\n",
       "    <tr>\n",
       "      <th>3</th>\n",
       "      <td>38.0</td>\n",
       "      <td>35.0</td>\n",
       "      <td>5.0</td>\n",
       "      <td>76.0</td>\n",
       "      <td>2.0</td>\n",
       "      <td>10.0</td>\n",
       "      <td>1.0</td>\n",
       "      <td>1.0</td>\n",
       "      <td>1.0</td>\n",
       "      <td>0</td>\n",
       "    </tr>\n",
       "    <tr>\n",
       "      <th>4</th>\n",
       "      <td>7.0</td>\n",
       "      <td>35.0</td>\n",
       "      <td>14.0</td>\n",
       "      <td>80.0</td>\n",
       "      <td>2.0</td>\n",
       "      <td>15.0</td>\n",
       "      <td>0.0</td>\n",
       "      <td>1.0</td>\n",
       "      <td>0.0</td>\n",
       "      <td>0</td>\n",
       "    </tr>\n",
       "    <tr>\n",
       "      <th>5</th>\n",
       "      <td>68.0</td>\n",
       "      <td>52.0</td>\n",
       "      <td>17.0</td>\n",
       "      <td>120.0</td>\n",
       "      <td>1.0</td>\n",
       "      <td>24.0</td>\n",
       "      <td>0.0</td>\n",
       "      <td>1.0</td>\n",
       "      <td>0.0</td>\n",
       "      <td>0</td>\n",
       "    </tr>\n",
       "    <tr>\n",
       "      <th>6</th>\n",
       "      <td>42.0</td>\n",
       "      <td>40.0</td>\n",
       "      <td>7.0</td>\n",
       "      <td>37.0</td>\n",
       "      <td>2.0</td>\n",
       "      <td>8.0</td>\n",
       "      <td>1.0</td>\n",
       "      <td>1.0</td>\n",
       "      <td>1.0</td>\n",
       "      <td>0</td>\n",
       "    </tr>\n",
       "  </tbody>\n",
       "</table>\n",
       "</div>"
      ],
      "text/plain": [
       "   tenure   age  address  income   ed  employ  equip  callcard  wireless  \\\n",
       "0    11.0  33.0      7.0   136.0  5.0     5.0    0.0       1.0       1.0   \n",
       "1    33.0  33.0     12.0    33.0  2.0     0.0    0.0       0.0       0.0   \n",
       "2    23.0  30.0      9.0    30.0  1.0     2.0    0.0       0.0       0.0   \n",
       "3    38.0  35.0      5.0    76.0  2.0    10.0    1.0       1.0       1.0   \n",
       "4     7.0  35.0     14.0    80.0  2.0    15.0    0.0       1.0       0.0   \n",
       "5    68.0  52.0     17.0   120.0  1.0    24.0    0.0       1.0       0.0   \n",
       "6    42.0  40.0      7.0    37.0  2.0     8.0    1.0       1.0       1.0   \n",
       "\n",
       "   churn  \n",
       "0      1  \n",
       "1      1  \n",
       "2      0  \n",
       "3      0  \n",
       "4      0  \n",
       "5      0  \n",
       "6      0  "
      ]
     },
     "execution_count": 86,
     "metadata": {},
     "output_type": "execute_result"
    }
   ],
   "source": [
    "churn_df = churn_df[['tenure', 'age', 'address', 'income', 'ed', 'employ', 'equip','callcard', 'wireless','churn']]\n",
    "\n",
    "churn_df['churn'] = churn_df['churn'].astype('int')\n",
    "\n",
    "churn_df.head(7)"
   ]
  },
  {
   "cell_type": "markdown",
   "metadata": {},
   "source": [
    "#### Lets define X, and y for our dataset:"
   ]
  },
  {
   "cell_type": "code",
   "execution_count": 87,
   "metadata": {},
   "outputs": [
    {
     "data": {
      "text/plain": [
       "array([[ 11.,  33.,   7., 136.,   5.,   5.,   0.],\n",
       "       [ 33.,  33.,  12.,  33.,   2.,   0.,   0.],\n",
       "       [ 23.,  30.,   9.,  30.,   1.,   2.,   0.],\n",
       "       [ 38.,  35.,   5.,  76.,   2.,  10.,   1.],\n",
       "       [  7.,  35.,  14.,  80.,   2.,  15.,   0.]])"
      ]
     },
     "execution_count": 87,
     "metadata": {},
     "output_type": "execute_result"
    }
   ],
   "source": [
    "X = np.asarray(churn_df[['tenure', 'age', 'address', 'income', 'ed', 'employ', 'equip']])\n",
    "X[0:5]\n",
    "\n"
   ]
  },
  {
   "cell_type": "code",
   "execution_count": 88,
   "metadata": {},
   "outputs": [
    {
     "data": {
      "text/plain": [
       "array([1, 1, 0, 0, 0])"
      ]
     },
     "execution_count": 88,
     "metadata": {},
     "output_type": "execute_result"
    }
   ],
   "source": [
    "y = np.asarray(churn_df['churn'])\n",
    "y [0:5]"
   ]
  },
  {
   "cell_type": "markdown",
   "metadata": {},
   "source": [
    "### Now normalizing the dataset"
   ]
  },
  {
   "cell_type": "code",
   "execution_count": 89,
   "metadata": {},
   "outputs": [
    {
     "data": {
      "text/plain": [
       "array([[-1.14, -0.63, -0.46,  0.48,  1.7 , -0.58, -0.86],\n",
       "       [-0.12, -0.63,  0.03, -0.33, -0.64, -1.14, -0.86],\n",
       "       [-0.58, -0.86, -0.26, -0.35, -1.42, -0.92, -0.86]])"
      ]
     },
     "execution_count": 89,
     "metadata": {},
     "output_type": "execute_result"
    }
   ],
   "source": [
    "X = preprocessing.StandardScaler().fit(X).transform(X)\n",
    "X[0:3]"
   ]
  },
  {
   "cell_type": "markdown",
   "metadata": {},
   "source": [
    "### Train/Test dataset"
   ]
  },
  {
   "cell_type": "code",
   "execution_count": 90,
   "metadata": {},
   "outputs": [
    {
     "name": "stdout",
     "output_type": "stream",
     "text": [
      "Train set: (160, 7) (160,)\n",
      "Test set: (40, 7) (40,)\n"
     ]
    }
   ],
   "source": [
    "X_train, X_test, y_train, y_test = train_test_split( X, y, test_size=0.2, random_state=4)\n",
    "print ('Train set:', X_train.shape,  y_train.shape)\n",
    "print ('Test set:', X_test.shape,  y_test.shape)"
   ]
  },
  {
   "cell_type": "markdown",
   "metadata": {},
   "source": [
    "### Modeling (Logistic Regression with Scikit-learn)\n",
    "\n",
    "The version of Logistic Regression in Scikit-learn, support regularization. Regularization is a technique used to solve the overfitting problem in machine learning models. **C parameter indicates inverse of regularization strength which must be a positive float**. Smaller values specify stronger regularization. Now lets fit our model with train set:"
   ]
  },
  {
   "cell_type": "code",
   "execution_count": 91,
   "metadata": {},
   "outputs": [
    {
     "data": {
      "text/plain": [
       "LogisticRegression(C=0.01, class_weight=None, dual=False, fit_intercept=True,\n",
       "          intercept_scaling=1, max_iter=100, multi_class='ovr', n_jobs=1,\n",
       "          penalty='l2', random_state=None, solver='liblinear', tol=0.0001,\n",
       "          verbose=0, warm_start=False)"
      ]
     },
     "execution_count": 91,
     "metadata": {},
     "output_type": "execute_result"
    }
   ],
   "source": [
    "from sklearn.linear_model import LogisticRegression\n",
    "from sklearn.metrics import confusion_matrix\n",
    "clf_Lo_Reg = LogisticRegression(C=0.01, solver='liblinear').fit(X_train,y_train)\n",
    "clf_Lo_Reg"
   ]
  },
  {
   "cell_type": "markdown",
   "metadata": {},
   "source": [
    "### Predict using the testset"
   ]
  },
  {
   "cell_type": "code",
   "execution_count": 92,
   "metadata": {},
   "outputs": [
    {
     "data": {
      "text/plain": [
       "array([0, 0, 0, 0, 0, 0, 0, 0, 1, 0, 0, 0, 1, 1, 0, 0, 0, 1, 1, 0, 0, 0,\n",
       "       0, 0, 0, 0, 0, 0, 0, 0, 0, 0, 1, 0, 0, 0, 1, 0, 0, 0])"
      ]
     },
     "execution_count": 92,
     "metadata": {},
     "output_type": "execute_result"
    }
   ],
   "source": [
    "pred = clf_Lo_Reg.predict(X_test)\n",
    "pred"
   ]
  },
  {
   "cell_type": "markdown",
   "metadata": {},
   "source": [
    "##### predict_proba \n",
    "returns estimates for all classes, ordered by the label of classes. So, the first column is the probability of class 1, P(Y=1|X), and second column is probability of class 0, P(Y=0|X):"
   ]
  },
  {
   "cell_type": "code",
   "execution_count": 93,
   "metadata": {},
   "outputs": [
    {
     "data": {
      "text/plain": [
       "array([[0.54, 0.46],\n",
       "       [0.61, 0.39],\n",
       "       [0.56, 0.44],\n",
       "       [0.63, 0.37],\n",
       "       [0.56, 0.44],\n",
       "       [0.55, 0.45],\n",
       "       [0.52, 0.48],\n",
       "       [0.61, 0.39],\n",
       "       [0.41, 0.59],\n",
       "       [0.63, 0.37],\n",
       "       [0.58, 0.42],\n",
       "       [0.63, 0.37],\n",
       "       [0.48, 0.52],\n",
       "       [0.43, 0.57],\n",
       "       [0.66, 0.34],\n",
       "       [0.55, 0.45],\n",
       "       [0.52, 0.48],\n",
       "       [0.49, 0.51],\n",
       "       [0.49, 0.51],\n",
       "       [0.52, 0.48],\n",
       "       [0.62, 0.38],\n",
       "       [0.53, 0.47],\n",
       "       [0.64, 0.36],\n",
       "       [0.52, 0.48],\n",
       "       [0.51, 0.49],\n",
       "       [0.71, 0.29],\n",
       "       [0.55, 0.45],\n",
       "       [0.52, 0.48],\n",
       "       [0.52, 0.48],\n",
       "       [0.71, 0.29],\n",
       "       [0.68, 0.32],\n",
       "       [0.51, 0.49],\n",
       "       [0.42, 0.58],\n",
       "       [0.71, 0.29],\n",
       "       [0.6 , 0.4 ],\n",
       "       [0.64, 0.36],\n",
       "       [0.4 , 0.6 ],\n",
       "       [0.52, 0.48],\n",
       "       [0.66, 0.34],\n",
       "       [0.51, 0.49]])"
      ]
     },
     "execution_count": 93,
     "metadata": {},
     "output_type": "execute_result"
    }
   ],
   "source": [
    "pred_prob = clf_Lo_Reg.predict_proba(X_test)\n",
    "pred_prob"
   ]
  },
  {
   "cell_type": "markdown",
   "metadata": {},
   "source": [
    "### Evaluation\n",
    "\n",
    "***jaccard index***\n",
    "\n",
    "Lets try jaccard index for accuracy evaluation. we can define jaccard as the size of the intersection divided by the size of the union of two label sets. If the entire set of predicted labels for a sample strictly match with the true set of labels, then the subset accuracy is 1.0; otherwise it is 0.0."
   ]
  },
  {
   "cell_type": "code",
   "execution_count": 94,
   "metadata": {},
   "outputs": [
    {
     "data": {
      "text/plain": [
       "0.75"
      ]
     },
     "execution_count": 94,
     "metadata": {},
     "output_type": "execute_result"
    }
   ],
   "source": [
    "from sklearn.metrics import jaccard_similarity_score\n",
    "jaccard_similarity_score(y_test, pred)"
   ]
  },
  {
   "cell_type": "markdown",
   "metadata": {},
   "source": [
    "### Buliding a confusion matrix\n",
    "\n",
    "Another way of looking at accuracy of classifier is to look at **confusion matrix**."
   ]
  },
  {
   "cell_type": "code",
   "execution_count": 95,
   "metadata": {},
   "outputs": [
    {
     "name": "stdout",
     "output_type": "stream",
     "text": [
      "[[ 6  9]\n",
      " [ 1 24]]\n"
     ]
    }
   ],
   "source": [
    "from sklearn.metrics import classification_report, confusion_matrix\n",
    "import itertools\n",
    "def plot_confusion_matrix(cm, classes,\n",
    "                          normalize=False,\n",
    "                          title='Confusion matrix',\n",
    "                          cmap=plt.cm.Blues):\n",
    "    \"\"\"\n",
    "    This function prints and plots the confusion matrix.\n",
    "    Normalization can be applied by setting `normalize=True`.\n",
    "    \"\"\"\n",
    "    if normalize:\n",
    "        cm = cm.astype('float') / cm.sum(axis=1)[:, np.newaxis]\n",
    "        print(\"Normalized confusion matrix\")\n",
    "    else:\n",
    "        print('Confusion matrix, without normalization')\n",
    "\n",
    "    print(cm)\n",
    "\n",
    "    plt.imshow(cm, interpolation='nearest', cmap=cmap)\n",
    "    plt.title(title)\n",
    "    plt.colorbar()\n",
    "    tick_marks = np.arange(len(classes))\n",
    "    plt.xticks(tick_marks, classes, rotation=45)\n",
    "    plt.yticks(tick_marks, classes)\n",
    "\n",
    "    fmt = '.2f' if normalize else 'd'\n",
    "    thresh = cm.max() / 2.\n",
    "    \n",
    "    for i, j in itertools.product(range(cm.shape[0]), range(cm.shape[1])):\n",
    "        plt.text(j, i, format(cm[i, j], fmt),\n",
    "                 horizontalalignment=\"center\",\n",
    "                 color=\"white\" if cm[i, j] > thresh else \"black\")\n",
    "\n",
    "    plt.tight_layout()\n",
    "    plt.ylabel('True label')\n",
    "    plt.xlabel('Predicted label')\n",
    "print(confusion_matrix(y_test, pred, labels=[1,0]))"
   ]
  },
  {
   "cell_type": "code",
   "execution_count": 96,
   "metadata": {},
   "outputs": [
    {
     "name": "stdout",
     "output_type": "stream",
     "text": [
      "Confusion matrix, without normalization\n",
      "[[ 6  9]\n",
      " [ 1 24]]\n"
     ]
    },
    {
     "data": {
      "image/png": "[encoded data removed]",
      "text/plain": [
       "<Figure size 432x288 with 2 Axes>"
      ]
     },
     "metadata": {},
     "output_type": "display_data"
    }
   ],
   "source": [
    "# Compute confusion matrix\n",
    "cnf_matrix = confusion_matrix(y_test, pred, labels=[1,0])\n",
    "np.set_printoptions(precision=2)\n",
    "\n",
    "\n",
    "# Plot non-normalized confusion matrix\n",
    "plt.figure()\n",
    "plot_confusion_matrix(cnf_matrix, classes=['churn=1','churn=0'],normalize= False,  title='Confusion matrix')"
   ]
  },
  {
   "cell_type": "markdown",
   "metadata": {},
   "source": [
    "The first row is for customers whose actual churn value in test set is 1. As we can calculate, out of 40 customers, the churn value of 15 of them is 1. And out of these 15, the classifier correctly predicted 6 of them as 1, and 9 of them as 0.\n",
    "\n",
    "It means, for 6 customers, the actual churn value were 1 in test set, and classifier also correctly predicted those as 1. However, while the actual label of 9 customers were 1, the classifier predicted those as 0, which is not very good. We can consider it as error of the model for first row.\n",
    "\n",
    "What about the customers with churn value 0? Lets look at the second row. It looks like there were 25 customers whom their churn value were 0.\n",
    "\n",
    "The classifier correctly predicted 24 of them as 0, and one of them wrongly as 1. So, it has done a good job in predicting the customers with churn value 0. A good thing about confusion matrix is that shows the model’s ability to correctly predict or separate the classes. In specific case of binary classifier, such as this example, we can interpret these numbers as the count of true positives, false positives, true negatives, and false negatives."
   ]
  },
  {
   "cell_type": "code",
   "execution_count": 97,
   "metadata": {},
   "outputs": [
    {
     "name": "stdout",
     "output_type": "stream",
     "text": [
      "             precision    recall  f1-score   support\n",
      "\n",
      "          0       0.73      0.96      0.83        25\n",
      "          1       0.86      0.40      0.55        15\n",
      "\n",
      "avg / total       0.78      0.75      0.72        40\n",
      "\n"
     ]
    }
   ],
   "source": [
    "print(classification_report(y_test, pred))"
   ]
  },
  {
   "cell_type": "markdown",
   "metadata": {},
   "source": [
    "### Simpler method of making confusion matrix"
   ]
  },
  {
   "cell_type": "code",
   "execution_count": 98,
   "metadata": {},
   "outputs": [
    {
     "data": {
      "text/plain": [
       "<matplotlib.axes._subplots.AxesSubplot at 0xb6c9a20>"
      ]
     },
     "execution_count": 98,
     "metadata": {},
     "output_type": "execute_result"
    },
    {
     "data": {
      "image/png": "[encoded data removed]",
      "text/plain": [
       "<Figure size 432x288 with 2 Axes>"
      ]
     },
     "metadata": {},
     "output_type": "display_data"
    }
   ],
   "source": [
    "skplt.metrics.plot_confusion_matrix(y_test, pred ,labels=[1,0])"
   ]
  },
  {
   "cell_type": "markdown",
   "metadata": {},
   "source": [
    "### log loss\n",
    "\n",
    "Now, lets try log loss for evaluation. In logistic regression, the output can be the probability of customer churn is yes (or equals to 1). This probability is a value between 0 and 1. Log loss( Logarithmic loss) measures the performance of a classifier where the predicted output is a probability value between 0 and 1."
   ]
  },
  {
   "cell_type": "code",
   "execution_count": 99,
   "metadata": {},
   "outputs": [
    {
     "data": {
      "text/plain": [
       "0.6017092478101186"
      ]
     },
     "execution_count": 99,
     "metadata": {},
     "output_type": "execute_result"
    }
   ],
   "source": [
    "from sklearn.metrics import log_loss\n",
    "log_loss(y_test, pred_prob) "
   ]
  },
  {
   "cell_type": "markdown",
   "metadata": {},
   "source": [
    "#### 1) Fitting using Gradient descent\n",
    "\n",
    "We should find the best parameters for our model by minimizing the cost function of our model. \n",
    "\n",
    "To minimize the cost function we use below -- **Using an optimization approach. There are different optimization approaches, but we use one of famous and effective approaches here, gradient descent.**\n",
    "\n",
    "**Generally, gradient descent is an iterative approach to finding the minimum of a function. Specifically, in our case, gradient descent is a technique to use derivative of a cost function to change the parameter values, to minimize the cost/error.**\n",
    "\n",
    "Sigmoid function’s output is always between 0 and 1, which make it proper to interpret the results as probabilities. It is obvious that, when the outcome of sigma function get closer to 1, the probability of y=1, given x, goes up, and in contrast, when the sigmoid value is closer to zero, the probability of y=1, given x, is very small. Here we define a function to compute the sigmoid of an input.\n"
   ]
  },
  {
   "cell_type": "code",
   "execution_count": 100,
   "metadata": {},
   "outputs": [],
   "source": [
    "#Compute the sigmoid function\n",
    "def sigmoid(z):\n",
    "    s =  1.0 / (1.0 + np.exp(- z))\n",
    "    return s"
   ]
  },
  {
   "cell_type": "markdown",
   "metadata": {},
   "source": [
    "We have to compare the output of our model with the actual label of the customer. Then, record the difference as our model’s error for each customer. The total error (for all customers) is cost of your model, and is calculated by model’s cost function. The cost function, by the way, basically represents how to calculate the error of the model, which is the difference between actual and the model’s predicted values. However, Logistic regression, uses a specific cost function which penalizes situations in which the class is 0 and the model output is 1, and vice versa. It uses log-likelihood to form the cost function."
   ]
  },
  {
   "cell_type": "code",
   "execution_count": 101,
   "metadata": {},
   "outputs": [],
   "source": [
    "# computes cost given predicted and actual values\n",
    "def cost_computation(theta, X, y):\n",
    "    hx = sigmoid(np.dot(X, theta)) # predicted probability of label 1\n",
    "    cost = (-y)* np.log(hx) - (1-y)*np.log(1-hx) # log-likelihood vector\n",
    "    J = cost.mean()\n",
    "    return J"
   ]
  },
  {
   "cell_type": "markdown",
   "metadata": {},
   "source": [
    "**Follow the curve by calculating the gradients or the first derivatives of the cost function with respect to each theta**"
   ]
  },
  {
   "cell_type": "code",
   "execution_count": 102,
   "metadata": {},
   "outputs": [],
   "source": [
    "def grad_computation(theta, X, y):\n",
    "    hx = sigmoid(np.dot(X, theta))\n",
    "    error = hx - y # difference between label and prediction\n",
    "    grad = np.dot(error, X) / y.size # gradient vector\n",
    "    return grad"
   ]
  },
  {
   "cell_type": "markdown",
   "metadata": {},
   "source": [
    "**This function predicts whether the label is 0 or 1 using learned logistic regression parameters**"
   ]
  },
  {
   "cell_type": "code",
   "execution_count": 103,
   "metadata": {},
   "outputs": [],
   "source": [
    "def predict_class(theta, X):\n",
    "    m, n = X.shape\n",
    "    p = np.zeros(shape=(m, 1))\n",
    "\n",
    "    h = sigmoid(X.dot(theta.T))\n",
    "\n",
    "    for it in range(0, h.shape[0]):\n",
    "        if h[it] > 0.5:\n",
    "            p[it, 0] = 1\n",
    "        else:\n",
    "            p[it, 0] = 0\n",
    "\n",
    "    return p.reshape(m,)"
   ]
  },
  {
   "cell_type": "code",
   "execution_count": 104,
   "metadata": {},
   "outputs": [],
   "source": [
    "def gradient_descent(x, y, theta, alpha, iterations):\n",
    "#gradient descent algorithm to find optimal theta values\n",
    "    theta_n = theta.size  \n",
    "    for i in range(iterations):\n",
    "        h = sigmoid(np.dot(x, theta))\n",
    "        gradient_val = grad_computation(theta, x, y)\n",
    "        theta= theta - alpha * gradient_val\n",
    "        print('>iteration=%d, lrate=%.3f, cost=%.3f' % (i, alpha, cost_computation(theta, x, y)))\n",
    "    return theta"
   ]
  },
  {
   "cell_type": "markdown",
   "metadata": {},
   "source": [
    "**we add 1 to as first value of each parameter vector, to play intrecept of the model**"
   ]
  },
  {
   "cell_type": "code",
   "execution_count": 105,
   "metadata": {},
   "outputs": [
    {
     "data": {
      "text/plain": [
       "array([[ 1.  ,  1.09,  0.14, -0.75,  0.2 , -0.64,  1.32, -0.86],\n",
       "       [ 1.  ,  0.86,  0.06, -1.15, -0.16,  0.92, -0.92,  1.16],\n",
       "       [ 1.  ,  0.95,  0.91,  1.12,  0.19,  1.7 ,  0.42,  1.16],\n",
       "       [ 1.  ,  1.55,  0.06,  1.12, -0.44,  0.14, -1.14,  1.16],\n",
       "       [ 1.  ,  1.41,  0.68, -0.95,  2.01,  1.7 ,  1.54, -0.86]])"
      ]
     },
     "execution_count": 105,
     "metadata": {},
     "output_type": "execute_result"
    }
   ],
   "source": [
    "X_train_1 = np.append( np.ones((X_train.shape[0], 1)), X_train, axis=1)\n",
    "X_test_1 = np.append( np.ones((X_test.shape[0], 1)), X_test, axis=1)\n",
    "X_train_1[0:5]"
   ]
  },
  {
   "cell_type": "code",
   "execution_count": 106,
   "metadata": {},
   "outputs": [
    {
     "name": "stdout",
     "output_type": "stream",
     "text": [
      ">iteration=0, lrate=0.100, cost=0.800\n",
      ">iteration=1, lrate=0.100, cost=0.770\n",
      ">iteration=2, lrate=0.100, cost=0.745\n",
      ">iteration=3, lrate=0.100, cost=0.721\n",
      ">iteration=4, lrate=0.100, cost=0.701\n",
      ">iteration=5, lrate=0.100, cost=0.683\n",
      ">iteration=6, lrate=0.100, cost=0.666\n",
      ">iteration=7, lrate=0.100, cost=0.652\n",
      ">iteration=8, lrate=0.100, cost=0.639\n",
      ">iteration=9, lrate=0.100, cost=0.627\n",
      ">iteration=10, lrate=0.100, cost=0.617\n",
      ">iteration=11, lrate=0.100, cost=0.607\n",
      ">iteration=12, lrate=0.100, cost=0.599\n",
      ">iteration=13, lrate=0.100, cost=0.591\n",
      ">iteration=14, lrate=0.100, cost=0.583\n",
      ">iteration=15, lrate=0.100, cost=0.577\n",
      ">iteration=16, lrate=0.100, cost=0.571\n",
      ">iteration=17, lrate=0.100, cost=0.565\n",
      ">iteration=18, lrate=0.100, cost=0.560\n",
      ">iteration=19, lrate=0.100, cost=0.555\n",
      ">iteration=20, lrate=0.100, cost=0.551\n",
      ">iteration=21, lrate=0.100, cost=0.546\n",
      ">iteration=22, lrate=0.100, cost=0.542\n",
      ">iteration=23, lrate=0.100, cost=0.539\n",
      ">iteration=24, lrate=0.100, cost=0.535\n",
      ">iteration=25, lrate=0.100, cost=0.532\n",
      ">iteration=26, lrate=0.100, cost=0.529\n",
      ">iteration=27, lrate=0.100, cost=0.526\n",
      ">iteration=28, lrate=0.100, cost=0.523\n",
      ">iteration=29, lrate=0.100, cost=0.520\n",
      ">iteration=30, lrate=0.100, cost=0.517\n",
      ">iteration=31, lrate=0.100, cost=0.515\n",
      ">iteration=32, lrate=0.100, cost=0.513\n",
      ">iteration=33, lrate=0.100, cost=0.510\n",
      ">iteration=34, lrate=0.100, cost=0.508\n",
      ">iteration=35, lrate=0.100, cost=0.506\n",
      ">iteration=36, lrate=0.100, cost=0.504\n",
      ">iteration=37, lrate=0.100, cost=0.502\n",
      ">iteration=38, lrate=0.100, cost=0.501\n",
      ">iteration=39, lrate=0.100, cost=0.499\n",
      ">iteration=40, lrate=0.100, cost=0.497\n",
      ">iteration=41, lrate=0.100, cost=0.496\n",
      ">iteration=42, lrate=0.100, cost=0.494\n",
      ">iteration=43, lrate=0.100, cost=0.493\n",
      ">iteration=44, lrate=0.100, cost=0.491\n",
      ">iteration=45, lrate=0.100, cost=0.490\n",
      ">iteration=46, lrate=0.100, cost=0.488\n",
      ">iteration=47, lrate=0.100, cost=0.487\n",
      ">iteration=48, lrate=0.100, cost=0.486\n",
      ">iteration=49, lrate=0.100, cost=0.485\n",
      ">iteration=50, lrate=0.100, cost=0.484\n",
      ">iteration=51, lrate=0.100, cost=0.482\n",
      ">iteration=52, lrate=0.100, cost=0.481\n",
      ">iteration=53, lrate=0.100, cost=0.480\n",
      ">iteration=54, lrate=0.100, cost=0.479\n",
      ">iteration=55, lrate=0.100, cost=0.478\n",
      ">iteration=56, lrate=0.100, cost=0.477\n",
      ">iteration=57, lrate=0.100, cost=0.476\n",
      ">iteration=58, lrate=0.100, cost=0.476\n",
      ">iteration=59, lrate=0.100, cost=0.475\n",
      ">iteration=60, lrate=0.100, cost=0.474\n",
      ">iteration=61, lrate=0.100, cost=0.473\n",
      ">iteration=62, lrate=0.100, cost=0.472\n",
      ">iteration=63, lrate=0.100, cost=0.471\n",
      ">iteration=64, lrate=0.100, cost=0.471\n",
      ">iteration=65, lrate=0.100, cost=0.470\n",
      ">iteration=66, lrate=0.100, cost=0.469\n",
      ">iteration=67, lrate=0.100, cost=0.469\n",
      ">iteration=68, lrate=0.100, cost=0.468\n",
      ">iteration=69, lrate=0.100, cost=0.467\n",
      ">iteration=70, lrate=0.100, cost=0.467\n",
      ">iteration=71, lrate=0.100, cost=0.466\n",
      ">iteration=72, lrate=0.100, cost=0.465\n",
      ">iteration=73, lrate=0.100, cost=0.465\n",
      ">iteration=74, lrate=0.100, cost=0.464\n",
      ">iteration=75, lrate=0.100, cost=0.464\n",
      ">iteration=76, lrate=0.100, cost=0.463\n",
      ">iteration=77, lrate=0.100, cost=0.463\n",
      ">iteration=78, lrate=0.100, cost=0.462\n",
      ">iteration=79, lrate=0.100, cost=0.462\n",
      ">iteration=80, lrate=0.100, cost=0.461\n",
      ">iteration=81, lrate=0.100, cost=0.461\n",
      ">iteration=82, lrate=0.100, cost=0.460\n",
      ">iteration=83, lrate=0.100, cost=0.460\n",
      ">iteration=84, lrate=0.100, cost=0.459\n",
      ">iteration=85, lrate=0.100, cost=0.459\n",
      ">iteration=86, lrate=0.100, cost=0.459\n",
      ">iteration=87, lrate=0.100, cost=0.458\n",
      ">iteration=88, lrate=0.100, cost=0.458\n",
      ">iteration=89, lrate=0.100, cost=0.457\n",
      ">iteration=90, lrate=0.100, cost=0.457\n",
      ">iteration=91, lrate=0.100, cost=0.457\n",
      ">iteration=92, lrate=0.100, cost=0.456\n",
      ">iteration=93, lrate=0.100, cost=0.456\n",
      ">iteration=94, lrate=0.100, cost=0.456\n",
      ">iteration=95, lrate=0.100, cost=0.455\n",
      ">iteration=96, lrate=0.100, cost=0.455\n",
      ">iteration=97, lrate=0.100, cost=0.455\n",
      ">iteration=98, lrate=0.100, cost=0.454\n",
      ">iteration=99, lrate=0.100, cost=0.454\n"
     ]
    }
   ],
   "source": [
    "# prefix an extra column of ones to the feature matrix (for intercept term)\n",
    "theta_0 = 0.1* np.random.randn(X_train_1.shape[1])\n",
    "theta = gradient_descent(X_train_1, y_train, theta_0, 0.1, 100)"
   ]
  },
  {
   "cell_type": "code",
   "execution_count": 107,
   "metadata": {},
   "outputs": [
    {
     "name": "stdout",
     "output_type": "stream",
     "text": [
      "Train Accuracy: 78.125000\n"
     ]
    }
   ],
   "source": [
    "pred = predict_class(np.array(theta), X_train_1)\n",
    "#Compute accuracy on our training set\n",
    "print ('Train Accuracy: %f' % ((y_train[(pred == y_train)].size / float(y_train.size)) * 100.0))"
   ]
  },
  {
   "cell_type": "code",
   "execution_count": 108,
   "metadata": {},
   "outputs": [
    {
     "name": "stdout",
     "output_type": "stream",
     "text": [
      "Test Accuracy: 72.500000\n"
     ]
    }
   ],
   "source": [
    "pred = predict_class(np.array(theta), X_test_1)\n",
    "#Compute accuracy on our training set\n",
    "print ('Test Accuracy: %f' % ((y_test[(pred == y_test)].size / float(y_test.size)) * 100.0))"
   ]
  },
  {
   "cell_type": "markdown",
   "metadata": {},
   "source": [
    "### 2) Fitting using bfgs algorithm\n",
    "\n",
    "Also, we can use **fmin_bfgs** to minimize the cost function. **fmin_bfgs** is a scipy built-in function which finds the best parameters theta for the logistic regression cost function given a fixed dataset."
   ]
  },
  {
   "cell_type": "code",
   "execution_count": 109,
   "metadata": {},
   "outputs": [
    {
     "name": "stdout",
     "output_type": "stream",
     "text": [
      "Optimization terminated successfully.\n",
      "         Current function value: 0.437695\n",
      "         Iterations: 27\n",
      "         Function evaluations: 28\n",
      "         Gradient evaluations: 28\n"
     ]
    }
   ],
   "source": [
    "theta = opt.fmin_bfgs(cost_computation, theta_0, fprime=grad_computation, args=(X_train_1, y_train))"
   ]
  },
  {
   "cell_type": "markdown",
   "metadata": {},
   "source": [
    "### 3) Fitting using Stochastic Gradient Descent\n",
    "\n",
    "What if we estimate gradient with just one sample?\n",
    "\n",
    "Gradient Descent is the process of minimizing our cost function by following the gradients of the cost function.\n",
    "\n",
    "'Stochastic Gradient Descent' is an optimization algorithem where we update the coefficients of the model in every iteration to minimize the error of a model on the training data. The way this algorithm works is that each training instance is shown to the model one at a time. The model makes a prediction for a training instance, the error is calculated and the model is updated in order to reduce the error for the next prediction.\n",
    "\n",
    "**Stochastic Gradient Descent**\n",
    "\n",
    "\n",
    "In this function we calculate the error for each prediction and update the theta accordingly. The error is calculated as the difference between the predication value and the actual label."
   ]
  },
  {
   "cell_type": "code",
   "execution_count": 110,
   "metadata": {},
   "outputs": [],
   "source": [
    "# Calculate h_theta -- Predictionof a row\n",
    "def predict_row(row, theta):\n",
    "    hx = sigmoid(np.dot(row, theta))\n",
    "    return hx"
   ]
  },
  {
   "cell_type": "code",
   "execution_count": 111,
   "metadata": {},
   "outputs": [],
   "source": [
    "# Estimate theta using stochastic gradient descent\n",
    "def theta_sgd(X_train, y_train, alpha, n_epoch):\n",
    "    theta = [0.0 for i in range(len(X_train[0]))]\n",
    "    for epoch in range(n_epoch):\n",
    "        sum_error = 0\n",
    "        for x,y in zip(X_train_1,y_train):\n",
    "            ht = predict_row(x, theta)\n",
    "            error =  ht - y\n",
    "            theta[0] = theta[0] - alpha * error \n",
    "            for i in range(len(theta)-1):\n",
    "                theta[i + 1] = theta[i + 1] - alpha * error  * x[i+1]\n",
    "        sum_error += error**2\n",
    "        # cost computation\n",
    "        cost = cost_computation(theta, X_train, y_train)\n",
    "        print('>epoch=%d, lrate=%.3f, error=%.3f, cost=%.3f' % (epoch, alpha, sum_error,cost))\n",
    "    return theta"
   ]
  },
  {
   "cell_type": "code",
   "execution_count": 112,
   "metadata": {},
   "outputs": [
    {
     "name": "stdout",
     "output_type": "stream",
     "text": [
      ">epoch=0, lrate=0.001, error=0.263, cost=0.669\n",
      ">epoch=1, lrate=0.001, error=0.274, cost=0.649\n",
      ">epoch=2, lrate=0.001, error=0.283, cost=0.632\n",
      ">epoch=3, lrate=0.001, error=0.292, cost=0.617\n",
      ">epoch=4, lrate=0.001, error=0.299, cost=0.604\n",
      ">epoch=5, lrate=0.001, error=0.305, cost=0.593\n",
      ">epoch=6, lrate=0.001, error=0.310, cost=0.583\n",
      ">epoch=7, lrate=0.001, error=0.314, cost=0.574\n",
      ">epoch=8, lrate=0.001, error=0.318, cost=0.566\n",
      ">epoch=9, lrate=0.001, error=0.321, cost=0.558\n",
      ">epoch=10, lrate=0.001, error=0.324, cost=0.552\n",
      ">epoch=11, lrate=0.001, error=0.326, cost=0.546\n",
      ">epoch=12, lrate=0.001, error=0.328, cost=0.540\n",
      ">epoch=13, lrate=0.001, error=0.329, cost=0.535\n",
      ">epoch=14, lrate=0.001, error=0.331, cost=0.530\n",
      ">epoch=15, lrate=0.001, error=0.332, cost=0.526\n",
      ">epoch=16, lrate=0.001, error=0.332, cost=0.522\n",
      ">epoch=17, lrate=0.001, error=0.333, cost=0.518\n",
      ">epoch=18, lrate=0.001, error=0.333, cost=0.514\n",
      ">epoch=19, lrate=0.001, error=0.333, cost=0.511\n",
      ">epoch=20, lrate=0.001, error=0.333, cost=0.508\n",
      ">epoch=21, lrate=0.001, error=0.333, cost=0.505\n",
      ">epoch=22, lrate=0.001, error=0.333, cost=0.502\n",
      ">epoch=23, lrate=0.001, error=0.333, cost=0.499\n",
      ">epoch=24, lrate=0.001, error=0.333, cost=0.497\n",
      ">epoch=25, lrate=0.001, error=0.333, cost=0.494\n",
      ">epoch=26, lrate=0.001, error=0.332, cost=0.492\n",
      ">epoch=27, lrate=0.001, error=0.332, cost=0.490\n",
      ">epoch=28, lrate=0.001, error=0.331, cost=0.488\n",
      ">epoch=29, lrate=0.001, error=0.331, cost=0.486\n",
      ">epoch=30, lrate=0.001, error=0.330, cost=0.484\n",
      ">epoch=31, lrate=0.001, error=0.330, cost=0.482\n",
      ">epoch=32, lrate=0.001, error=0.329, cost=0.481\n",
      ">epoch=33, lrate=0.001, error=0.329, cost=0.479\n",
      ">epoch=34, lrate=0.001, error=0.328, cost=0.478\n",
      ">epoch=35, lrate=0.001, error=0.328, cost=0.476\n",
      ">epoch=36, lrate=0.001, error=0.327, cost=0.475\n",
      ">epoch=37, lrate=0.001, error=0.326, cost=0.474\n",
      ">epoch=38, lrate=0.001, error=0.326, cost=0.472\n",
      ">epoch=39, lrate=0.001, error=0.325, cost=0.471\n",
      ">epoch=40, lrate=0.001, error=0.325, cost=0.470\n",
      ">epoch=41, lrate=0.001, error=0.324, cost=0.469\n",
      ">epoch=42, lrate=0.001, error=0.324, cost=0.468\n",
      ">epoch=43, lrate=0.001, error=0.323, cost=0.467\n",
      ">epoch=44, lrate=0.001, error=0.323, cost=0.466\n",
      ">epoch=45, lrate=0.001, error=0.322, cost=0.465\n",
      ">epoch=46, lrate=0.001, error=0.322, cost=0.464\n",
      ">epoch=47, lrate=0.001, error=0.321, cost=0.463\n",
      ">epoch=48, lrate=0.001, error=0.321, cost=0.463\n",
      ">epoch=49, lrate=0.001, error=0.320, cost=0.462\n",
      ">epoch=50, lrate=0.001, error=0.320, cost=0.461\n",
      ">epoch=51, lrate=0.001, error=0.319, cost=0.460\n",
      ">epoch=52, lrate=0.001, error=0.319, cost=0.460\n",
      ">epoch=53, lrate=0.001, error=0.319, cost=0.459\n",
      ">epoch=54, lrate=0.001, error=0.318, cost=0.458\n",
      ">epoch=55, lrate=0.001, error=0.318, cost=0.458\n",
      ">epoch=56, lrate=0.001, error=0.317, cost=0.457\n",
      ">epoch=57, lrate=0.001, error=0.317, cost=0.457\n",
      ">epoch=58, lrate=0.001, error=0.317, cost=0.456\n",
      ">epoch=59, lrate=0.001, error=0.316, cost=0.455\n",
      ">epoch=60, lrate=0.001, error=0.316, cost=0.455\n",
      ">epoch=61, lrate=0.001, error=0.316, cost=0.454\n",
      ">epoch=62, lrate=0.001, error=0.315, cost=0.454\n",
      ">epoch=63, lrate=0.001, error=0.315, cost=0.453\n",
      ">epoch=64, lrate=0.001, error=0.315, cost=0.453\n",
      ">epoch=65, lrate=0.001, error=0.314, cost=0.453\n",
      ">epoch=66, lrate=0.001, error=0.314, cost=0.452\n",
      ">epoch=67, lrate=0.001, error=0.314, cost=0.452\n",
      ">epoch=68, lrate=0.001, error=0.313, cost=0.451\n",
      ">epoch=69, lrate=0.001, error=0.313, cost=0.451\n",
      ">epoch=70, lrate=0.001, error=0.313, cost=0.451\n",
      ">epoch=71, lrate=0.001, error=0.313, cost=0.450\n",
      ">epoch=72, lrate=0.001, error=0.312, cost=0.450\n",
      ">epoch=73, lrate=0.001, error=0.312, cost=0.450\n",
      ">epoch=74, lrate=0.001, error=0.312, cost=0.449\n",
      ">epoch=75, lrate=0.001, error=0.312, cost=0.449\n",
      ">epoch=76, lrate=0.001, error=0.312, cost=0.449\n",
      ">epoch=77, lrate=0.001, error=0.311, cost=0.448\n",
      ">epoch=78, lrate=0.001, error=0.311, cost=0.448\n",
      ">epoch=79, lrate=0.001, error=0.311, cost=0.448\n",
      ">epoch=80, lrate=0.001, error=0.311, cost=0.448\n",
      ">epoch=81, lrate=0.001, error=0.311, cost=0.447\n",
      ">epoch=82, lrate=0.001, error=0.310, cost=0.447\n",
      ">epoch=83, lrate=0.001, error=0.310, cost=0.447\n",
      ">epoch=84, lrate=0.001, error=0.310, cost=0.447\n",
      ">epoch=85, lrate=0.001, error=0.310, cost=0.446\n",
      ">epoch=86, lrate=0.001, error=0.310, cost=0.446\n",
      ">epoch=87, lrate=0.001, error=0.310, cost=0.446\n",
      ">epoch=88, lrate=0.001, error=0.309, cost=0.446\n",
      ">epoch=89, lrate=0.001, error=0.309, cost=0.446\n",
      ">epoch=90, lrate=0.001, error=0.309, cost=0.445\n",
      ">epoch=91, lrate=0.001, error=0.309, cost=0.445\n",
      ">epoch=92, lrate=0.001, error=0.309, cost=0.445\n",
      ">epoch=93, lrate=0.001, error=0.309, cost=0.445\n",
      ">epoch=94, lrate=0.001, error=0.309, cost=0.445\n",
      ">epoch=95, lrate=0.001, error=0.308, cost=0.444\n",
      ">epoch=96, lrate=0.001, error=0.308, cost=0.444\n",
      ">epoch=97, lrate=0.001, error=0.308, cost=0.444\n",
      ">epoch=98, lrate=0.001, error=0.308, cost=0.444\n",
      ">epoch=99, lrate=0.001, error=0.308, cost=0.444\n"
     ]
    }
   ],
   "source": [
    "theta = theta_sgd(X_train_1,y_train, 0.001, 100)"
   ]
  },
  {
   "cell_type": "code",
   "execution_count": 113,
   "metadata": {},
   "outputs": [
    {
     "name": "stdout",
     "output_type": "stream",
     "text": [
      "Train Accuracy: 77.500000\n"
     ]
    }
   ],
   "source": [
    "pred = predict_class(np.array(theta), X_train_1)\n",
    "#Compute accuracy on our training set\n",
    "print ('Train Accuracy: %f' % ((y_train[(pred == y_train)].size / float(y_train.size)) * 100.0))"
   ]
  },
  {
   "cell_type": "code",
   "execution_count": 114,
   "metadata": {},
   "outputs": [
    {
     "name": "stdout",
     "output_type": "stream",
     "text": [
      "Test Accuracy: 72.500000\n"
     ]
    }
   ],
   "source": [
    "pred = predict_class(np.array(theta), X_test_1)\n",
    "#Compute accuracy on our training set\n",
    "print ('Test Accuracy: %f' % ((y_test[(pred == y_test)].size / float(y_test.size)) * 100.0))"
   ]
  },
  {
   "cell_type": "markdown",
   "metadata": {},
   "source": [
    "### Regularization\n",
    "\n",
    "There is a parameter, regularization, that is used for preventing over fitting. We can find the best regularization value using accuracy:"
   ]
  },
  {
   "cell_type": "code",
   "execution_count": 115,
   "metadata": {},
   "outputs": [
    {
     "data": {
      "text/plain": [
       "array([0.72, 0.72, 0.72, 0.72])"
      ]
     },
     "execution_count": 115,
     "metadata": {},
     "output_type": "execute_result"
    }
   ],
   "source": [
    "Regularization_Inv=[0.00001,0.1,1,100]\n",
    "Length=len(Regularization_Inv)\n",
    "mean_acc=np.zeros((Length))\n",
    "std_acc=np.zeros((Length))\n",
    "ConfustionMx=[];\n",
    "\n",
    "\n",
    "for Reg,n in zip(Regularization_Inv,range(0,Length)):\n",
    "    \n",
    "    LR = LogisticRegression(C=Reg).fit(X_train,y_train)\n",
    "    yhat=LR.predict(X_test)\n",
    "    mean_acc[n]=np.mean(yhat==y_test);\n",
    "    \n",
    "    \n",
    "    std_acc[n]=np.std(yhat==y_test)/np.sqrt(yhat.shape[0])\n",
    "    ConfustionMx.append(confusion_matrix(yhat,y_test,labels=[1,0]))\n",
    "mean_acc"
   ]
  },
  {
   "cell_type": "code",
   "execution_count": 116,
   "metadata": {},
   "outputs": [
    {
     "name": "stdout",
     "output_type": "stream",
     "text": [
      "The best accuracy for Logistic regression is 0.725\n"
     ]
    }
   ],
   "source": [
    "print( \"The best accuracy for Logistic regression is\", mean_acc.max())"
   ]
  }
 ],
 "metadata": {
  "kernelspec": {
   "display_name": "Python 2",
   "language": "python",
   "name": "python2"
  },
  "language_info": {
   "codemirror_mode": {
    "name": "ipython",
    "version": 2
   },
   "file_extension": ".py",
   "mimetype": "text/x-python",
   "name": "python",
   "nbconvert_exporter": "python",
   "pygments_lexer": "ipython2",
   "version": "2.7.16"
  }
 },
 "nbformat": 4,
 "nbformat_minor": 2
}
